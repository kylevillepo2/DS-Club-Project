{
 "cells": [
  {
   "cell_type": "code",
   "execution_count": 2,
   "id": "d1c927d9-ae29-4d6c-9711-d451e0729dc5",
   "metadata": {
    "collapsed": true,
    "jupyter": {
     "outputs_hidden": true
    },
    "tags": []
   },
   "outputs": [
    {
     "name": "stdout",
     "output_type": "stream",
     "text": [
      "Collecting yfinance\n",
      "  Obtaining dependency information for yfinance from https://files.pythonhosted.org/packages/1b/0f/77716aa9dd84bb1aa5e93c87122af1de89697b6231f6d01d58d4e7c03c14/yfinance-0.2.36-py2.py3-none-any.whl.metadata\n",
      "  Downloading yfinance-0.2.36-py2.py3-none-any.whl.metadata (11 kB)\n",
      "Requirement already satisfied: pandas>=1.3.0 in /Users/kylevilleponteau/anaconda3/lib/python3.11/site-packages (from yfinance) (2.0.3)\n",
      "Requirement already satisfied: numpy>=1.16.5 in /Users/kylevilleponteau/anaconda3/lib/python3.11/site-packages (from yfinance) (1.24.3)\n",
      "Requirement already satisfied: requests>=2.31 in /Users/kylevilleponteau/anaconda3/lib/python3.11/site-packages (from yfinance) (2.31.0)\n",
      "Collecting multitasking>=0.0.7 (from yfinance)\n",
      "  Downloading multitasking-0.0.11-py3-none-any.whl (8.5 kB)\n",
      "Requirement already satisfied: lxml>=4.9.1 in /Users/kylevilleponteau/anaconda3/lib/python3.11/site-packages (from yfinance) (4.9.3)\n",
      "Requirement already satisfied: appdirs>=1.4.4 in /Users/kylevilleponteau/anaconda3/lib/python3.11/site-packages (from yfinance) (1.4.4)\n",
      "Requirement already satisfied: pytz>=2022.5 in /Users/kylevilleponteau/anaconda3/lib/python3.11/site-packages (from yfinance) (2023.3.post1)\n",
      "Collecting frozendict>=2.3.4 (from yfinance)\n",
      "  Downloading frozendict-2.4.0.tar.gz (314 kB)\n",
      "\u001b[2K     \u001b[90m━━━━━━━━━━━━━━━━━━━━━━━━━━━━━━━━━━━━━━━\u001b[0m \u001b[32m314.6/314.6 kB\u001b[0m \u001b[31m9.6 MB/s\u001b[0m eta \u001b[36m0:00:00\u001b[0m\n",
      "\u001b[?25h  Installing build dependencies ... \u001b[?25ldone\n",
      "\u001b[?25h  Getting requirements to build wheel ... \u001b[?25ldone\n",
      "\u001b[?25h  Preparing metadata (pyproject.toml) ... \u001b[?25ldone\n",
      "\u001b[?25hCollecting peewee>=3.16.2 (from yfinance)\n",
      "  Downloading peewee-3.17.0.tar.gz (2.9 MB)\n",
      "\u001b[2K     \u001b[90m━━━━━━━━━━━━━━━━━━━━━━━━━━━━━━━━━━━━━━━━\u001b[0m \u001b[32m2.9/2.9 MB\u001b[0m \u001b[31m22.8 MB/s\u001b[0m eta \u001b[36m0:00:00\u001b[0ma \u001b[36m0:00:01\u001b[0m\n",
      "\u001b[?25h  Installing build dependencies ... \u001b[?25ldone\n",
      "\u001b[?25h  Getting requirements to build wheel ... \u001b[?25ldone\n",
      "\u001b[?25h  Preparing metadata (pyproject.toml) ... \u001b[?25ldone\n",
      "\u001b[?25hRequirement already satisfied: beautifulsoup4>=4.11.1 in /Users/kylevilleponteau/anaconda3/lib/python3.11/site-packages (from yfinance) (4.12.2)\n",
      "Collecting html5lib>=1.1 (from yfinance)\n",
      "  Downloading html5lib-1.1-py2.py3-none-any.whl (112 kB)\n",
      "\u001b[2K     \u001b[90m━━━━━━━━━━━━━━━━━━━━━━━━━━━━━━━━━━━━━━━\u001b[0m \u001b[32m112.2/112.2 kB\u001b[0m \u001b[31m7.7 MB/s\u001b[0m eta \u001b[36m0:00:00\u001b[0m\n",
      "\u001b[?25hRequirement already satisfied: soupsieve>1.2 in /Users/kylevilleponteau/anaconda3/lib/python3.11/site-packages (from beautifulsoup4>=4.11.1->yfinance) (2.4)\n",
      "Requirement already satisfied: six>=1.9 in /Users/kylevilleponteau/anaconda3/lib/python3.11/site-packages (from html5lib>=1.1->yfinance) (1.16.0)\n",
      "Requirement already satisfied: webencodings in /Users/kylevilleponteau/anaconda3/lib/python3.11/site-packages (from html5lib>=1.1->yfinance) (0.5.1)\n",
      "Requirement already satisfied: python-dateutil>=2.8.2 in /Users/kylevilleponteau/anaconda3/lib/python3.11/site-packages (from pandas>=1.3.0->yfinance) (2.8.2)\n",
      "Requirement already satisfied: tzdata>=2022.1 in /Users/kylevilleponteau/anaconda3/lib/python3.11/site-packages (from pandas>=1.3.0->yfinance) (2023.3)\n",
      "Requirement already satisfied: charset-normalizer<4,>=2 in /Users/kylevilleponteau/anaconda3/lib/python3.11/site-packages (from requests>=2.31->yfinance) (2.0.4)\n",
      "Requirement already satisfied: idna<4,>=2.5 in /Users/kylevilleponteau/anaconda3/lib/python3.11/site-packages (from requests>=2.31->yfinance) (3.4)\n",
      "Requirement already satisfied: urllib3<3,>=1.21.1 in /Users/kylevilleponteau/anaconda3/lib/python3.11/site-packages (from requests>=2.31->yfinance) (1.26.16)\n",
      "Requirement already satisfied: certifi>=2017.4.17 in /Users/kylevilleponteau/anaconda3/lib/python3.11/site-packages (from requests>=2.31->yfinance) (2023.7.22)\n",
      "Downloading yfinance-0.2.36-py2.py3-none-any.whl (72 kB)\n",
      "\u001b[2K   \u001b[90m━━━━━━━━━━━━━━━━━━━━━━━━━━━━━━━━━━━━━━━━\u001b[0m \u001b[32m72.4/72.4 kB\u001b[0m \u001b[31m6.9 MB/s\u001b[0m eta \u001b[36m0:00:00\u001b[0m\n",
      "\u001b[?25hBuilding wheels for collected packages: frozendict, peewee\n",
      "  Building wheel for frozendict (pyproject.toml) ... \u001b[?25ldone\n",
      "\u001b[?25h  Created wheel for frozendict: filename=frozendict-2.4.0-py3-none-any.whl size=15425 sha256=f6c430fdd9510f5a3a9be3f904a1a68957d6b5e24b311afddc289b7f95edeab3\n",
      "  Stored in directory: /Users/kylevilleponteau/Library/Caches/pip/wheels/31/dd/81/a814e6f8cde8a1bbc1f088fdc273943371f10478b91a605e14\n",
      "  Building wheel for peewee (pyproject.toml) ... \u001b[?25ldone\n",
      "\u001b[?25h  Created wheel for peewee: filename=peewee-3.17.0-cp311-cp311-macosx_11_0_arm64.whl size=243518 sha256=b333973fb61adb8cbe117f522f15fda5de1cc61807068d0307e56803d9445e12\n",
      "  Stored in directory: /Users/kylevilleponteau/Library/Caches/pip/wheels/02/20/23/74a10d0cd31f5d41c19b92ddf4c138ceff01b9f4675f19dbf5\n",
      "Successfully built frozendict peewee\n",
      "Installing collected packages: peewee, multitasking, html5lib, frozendict, yfinance\n",
      "Successfully installed frozendict-2.4.0 html5lib-1.1 multitasking-0.0.11 peewee-3.17.0 yfinance-0.2.36\n",
      "Note: you may need to restart the kernel to use updated packages.\n"
     ]
    }
   ],
   "source": [
    "pip install yfinance"
   ]
  },
  {
   "cell_type": "code",
   "execution_count": 3,
   "id": "90c0a9c9-4718-4033-981f-28308b5fce5d",
   "metadata": {
    "tags": []
   },
   "outputs": [],
   "source": [
    "import yfinance as yf"
   ]
  },
  {
   "cell_type": "code",
   "execution_count": 4,
   "id": "6cccc26a-4871-475a-b2ed-4044a6e80a20",
   "metadata": {
    "tags": []
   },
   "outputs": [
    {
     "name": "stderr",
     "output_type": "stream",
     "text": [
      "[*********************100%%**********************]  1 of 1 completed\n"
     ]
    }
   ],
   "source": [
    "data_apple = yf.download(\"AAPL\", start = \"2023-01-01\", end = \"2024-01-01\")"
   ]
  },
  {
   "cell_type": "code",
   "execution_count": 5,
   "id": "b4d7e9e4-e9d7-436b-a9a9-a2078f38ff92",
   "metadata": {
    "tags": []
   },
   "outputs": [
    {
     "name": "stdout",
     "output_type": "stream",
     "text": [
      "<bound method NDFrame.head of                   Open        High         Low       Close   Adj Close  \\\n",
      "Date                                                                     \n",
      "2023-01-03  130.279999  130.899994  124.169998  125.070000  124.374794   \n",
      "2023-01-04  126.889999  128.660004  125.080002  126.360001  125.657639   \n",
      "2023-01-05  127.129997  127.769997  124.760002  125.019997  124.325081   \n",
      "2023-01-06  126.010002  130.289993  124.889999  129.619995  128.899506   \n",
      "2023-01-09  130.470001  133.410004  129.889999  130.149994  129.426544   \n",
      "...                ...         ...         ...         ...         ...   \n",
      "2023-12-22  195.179993  195.410004  192.970001  193.600006  193.600006   \n",
      "2023-12-26  193.610001  193.889999  192.830002  193.050003  193.050003   \n",
      "2023-12-27  192.490005  193.500000  191.089996  193.149994  193.149994   \n",
      "2023-12-28  194.139999  194.660004  193.169998  193.580002  193.580002   \n",
      "2023-12-29  193.899994  194.399994  191.729996  192.529999  192.529999   \n",
      "\n",
      "               Volume  \n",
      "Date                   \n",
      "2023-01-03  112117500  \n",
      "2023-01-04   89113600  \n",
      "2023-01-05   80962700  \n",
      "2023-01-06   87754700  \n",
      "2023-01-09   70790800  \n",
      "...               ...  \n",
      "2023-12-22   37122800  \n",
      "2023-12-26   28919300  \n",
      "2023-12-27   48087700  \n",
      "2023-12-28   34049900  \n",
      "2023-12-29   42628800  \n",
      "\n",
      "[250 rows x 6 columns]>\n"
     ]
    }
   ],
   "source": [
    "print(data_apple.head)"
   ]
  },
  {
   "cell_type": "code",
   "execution_count": 6,
   "id": "f7c03048-ec18-4261-91ff-24c93b468a37",
   "metadata": {
    "tags": []
   },
   "outputs": [],
   "source": [
    "apple = yf.Ticker(\"AAPL\")"
   ]
  },
  {
   "cell_type": "code",
   "execution_count": 7,
   "id": "d3775eac-fc35-43d5-8cfd-21ad4a23f11a",
   "metadata": {
    "collapsed": true,
    "jupyter": {
     "outputs_hidden": true
    },
    "tags": []
   },
   "outputs": [
    {
     "name": "stdout",
     "output_type": "stream",
     "text": [
      "{'address1': 'One Apple Park Way', 'city': 'Cupertino', 'state': 'CA', 'zip': '95014', 'country': 'United States', 'phone': '408 996 1010', 'website': 'https://www.apple.com', 'industry': 'Consumer Electronics', 'industryKey': 'consumer-electronics', 'industryDisp': 'Consumer Electronics', 'sector': 'Technology', 'sectorKey': 'technology', 'sectorDisp': 'Technology', 'longBusinessSummary': 'Apple Inc. designs, manufactures, and markets smartphones, personal computers, tablets, wearables, and accessories worldwide. The company offers iPhone, a line of smartphones; Mac, a line of personal computers; iPad, a line of multi-purpose tablets; and wearables, home, and accessories comprising AirPods, Apple TV, Apple Watch, Beats products, and HomePod. It also provides AppleCare support and cloud services; and operates various platforms, including the App Store that allow customers to discover and download applications and digital content, such as books, music, video, games, and podcasts. In addition, the company offers various services, such as Apple Arcade, a game subscription service; Apple Fitness+, a personalized fitness service; Apple Music, which offers users a curated listening experience with on-demand radio stations; Apple News+, a subscription news and magazine service; Apple TV+, which offers exclusive original content; Apple Card, a co-branded credit card; and Apple Pay, a cashless payment service, as well as licenses its intellectual property. The company serves consumers, and small and mid-sized businesses; and the education, enterprise, and government markets. It distributes third-party applications for its products through the App Store. The company also sells its products through its retail and online stores, and direct sales force; and third-party cellular network carriers, wholesalers, retailers, and resellers. Apple Inc. was founded in 1976 and is headquartered in Cupertino, California.', 'fullTimeEmployees': 161000, 'companyOfficers': [{'maxAge': 1, 'name': 'Mr. Timothy D. Cook', 'age': 62, 'title': 'CEO & Director', 'yearBorn': 1961, 'fiscalYear': 2023, 'totalPay': 16239562, 'exercisedValue': 0, 'unexercisedValue': 0}, {'maxAge': 1, 'name': 'Mr. Luca  Maestri', 'age': 60, 'title': 'CFO & Senior VP', 'yearBorn': 1963, 'fiscalYear': 2023, 'totalPay': 4612242, 'exercisedValue': 0, 'unexercisedValue': 0}, {'maxAge': 1, 'name': 'Mr. Jeffrey E. Williams', 'age': 59, 'title': 'Chief Operating Officer', 'yearBorn': 1964, 'fiscalYear': 2023, 'totalPay': 4637585, 'exercisedValue': 0, 'unexercisedValue': 0}, {'maxAge': 1, 'name': 'Ms. Katherine L. Adams', 'age': 59, 'title': 'Senior VP, General Counsel & Secretary', 'yearBorn': 1964, 'fiscalYear': 2023, 'totalPay': 4618064, 'exercisedValue': 0, 'unexercisedValue': 0}, {'maxAge': 1, 'name': \"Ms. Deirdre  O'Brien\", 'age': 56, 'title': 'Senior Vice President of Retail', 'yearBorn': 1967, 'fiscalYear': 2023, 'totalPay': 4613369, 'exercisedValue': 0, 'unexercisedValue': 0}, {'maxAge': 1, 'name': 'Mr. Chris  Kondo', 'title': 'Senior Director of Corporate Accounting', 'fiscalYear': 2023, 'exercisedValue': 0, 'unexercisedValue': 0}, {'maxAge': 1, 'name': 'Mr. James  Wilson', 'title': 'Chief Technology Officer', 'fiscalYear': 2023, 'exercisedValue': 0, 'unexercisedValue': 0}, {'maxAge': 1, 'name': 'Suhasini  Chandramouli', 'title': 'Director of Investor Relations', 'fiscalYear': 2023, 'exercisedValue': 0, 'unexercisedValue': 0}, {'maxAge': 1, 'name': 'Mr. Greg  Joswiak', 'title': 'Senior Vice President of Worldwide Marketing', 'fiscalYear': 2023, 'exercisedValue': 0, 'unexercisedValue': 0}, {'maxAge': 1, 'name': 'Mr. Adrian  Perica', 'age': 49, 'title': 'Head of Corporate Development', 'yearBorn': 1974, 'fiscalYear': 2023, 'exercisedValue': 0, 'unexercisedValue': 0}], 'auditRisk': 4, 'boardRisk': 1, 'compensationRisk': 5, 'shareHolderRightsRisk': 1, 'overallRisk': 1, 'governanceEpochDate': 1706400000, 'compensationAsOfEpochDate': 1703980800, 'maxAge': 86400, 'priceHint': 2, 'previousClose': 188.04, 'open': 187.04, 'dayLow': 184.36, 'dayHigh': 187.095, 'regularMarketPreviousClose': 188.04, 'regularMarketOpen': 187.04, 'regularMarketDayLow': 184.36, 'regularMarketDayHigh': 187.095, 'dividendRate': 0.96, 'dividendYield': 0.0052, 'exDividendDate': 1699574400, 'payoutRatio': 0.1533, 'fiveYearAvgDividendYield': 0.78, 'beta': 1.29, 'trailingPE': 30.032574, 'forwardPE': 25.71827, 'volume': 55130796, 'regularMarketVolume': 55130796, 'averageVolume': 53952281, 'averageVolume10days': 55256550, 'averageDailyVolume10Day': 55256550, 'bidSize': 900, 'askSize': 800, 'marketCap': 2851174350848, 'fiftyTwoWeekLow': 143.9, 'fiftyTwoWeekHigh': 199.62, 'priceToSalesTrailing12Months': 7.438784, 'fiftyDayAverage': 190.9252, 'twoHundredDayAverage': 182.1909, 'trailingAnnualDividendRate': 0.94, 'trailingAnnualDividendYield': 0.004998937, 'currency': 'USD', 'enterpriseValue': 2930302517248, 'profitMargins': 0.25305998, 'floatShares': 15532688950, 'sharesOutstanding': 15461900288, 'sharesShort': 101263039, 'sharesShortPriorMonth': 120233720, 'sharesShortPreviousMonthDate': 1702598400, 'dateShortInterest': 1705017600, 'sharesPercentSharesOut': 0.0064999997, 'heldPercentInsiders': 0.00072999997, 'heldPercentInstitutions': 0.61811, 'shortRatio': 1.83, 'shortPercentOfFloat': 0.0066000004, 'impliedSharesOutstanding': 15770500096, 'bookValue': 3.997, 'priceToBook': 46.134598, 'lastFiscalYearEnd': 1696032000, 'nextFiscalYearEnd': 1727654400, 'mostRecentQuarter': 1696032000, 'earningsQuarterlyGrowth': 0.108, 'netIncomeToCommon': 96995000320, 'trailingEps': 6.14, 'forwardEps': 7.17, 'pegRatio': 4.65, 'lastSplitFactor': '4:1', 'lastSplitDate': 1598832000, 'enterpriseToRevenue': 7.645, 'enterpriseToEbitda': 23.29, '52WeekChange': 0.24678421, 'SandP52WeekChange': 0.17829013, 'lastDividendValue': 0.24, 'lastDividendDate': 1699574400, 'exchange': 'NMS', 'quoteType': 'EQUITY', 'symbol': 'AAPL', 'underlyingSymbol': 'AAPL', 'shortName': 'Apple Inc.', 'longName': 'Apple Inc.', 'firstTradeDateEpochUtc': 345479400, 'timeZoneFullName': 'America/New_York', 'timeZoneShortName': 'EST', 'uuid': '8b10e4ae-9eeb-3684-921a-9ab27e4d87aa', 'messageBoardId': 'finmb_24937', 'gmtOffSetMilliseconds': -18000000, 'currentPrice': 184.4, 'targetHighPrice': 250.0, 'targetLowPrice': 159.0, 'targetMeanPrice': 200.27, 'targetMedianPrice': 200.0, 'recommendationMean': 2.1, 'recommendationKey': 'buy', 'numberOfAnalystOpinions': 38, 'totalCash': 61554999296, 'totalCashPerShare': 3.958, 'ebitda': 125820002304, 'totalDebt': 123930001408, 'quickRatio': 0.843, 'currentRatio': 0.988, 'totalRevenue': 383285002240, 'debtToEquity': 199.418, 'revenuePerShare': 24.344, 'returnOnAssets': 0.20256001, 'returnOnEquity': 1.7195, 'freeCashflow': 82179997696, 'operatingCashflow': 110543003648, 'earningsGrowth': 0.135, 'revenueGrowth': -0.007, 'grossMargins': 0.44131002, 'ebitdaMargins': 0.32827, 'operatingMargins': 0.30134, 'financialCurrency': 'USD', 'trailingPegRatio': 2.2048}\n"
     ]
    }
   ],
   "source": [
    "print(apple.info)"
   ]
  },
  {
   "cell_type": "code",
   "execution_count": 8,
   "id": "3b9562d6-9a5d-4591-8a8f-8127529d1219",
   "metadata": {
    "tags": []
   },
   "outputs": [
    {
     "name": "stderr",
     "output_type": "stream",
     "text": [
      "[*********************100%%**********************]  1 of 1 completed"
     ]
    },
    {
     "name": "stdout",
     "output_type": "stream",
     "text": [
      "                  Open        High         Low       Close   Adj Close  \\\n",
      "Date                                                                     \n",
      "2024-01-18  186.089996  189.139999  185.830002  188.630005  188.630005   \n",
      "2024-01-19  189.330002  191.949997  188.820007  191.559998  191.559998   \n",
      "2024-01-22  192.300003  195.330002  192.259995  193.889999  193.889999   \n",
      "2024-01-23  195.020004  195.750000  193.830002  195.179993  195.179993   \n",
      "2024-01-24  195.419998  196.380005  194.339996  194.500000  194.500000   \n",
      "2024-01-25  195.220001  196.270004  193.110001  194.169998  194.169998   \n",
      "2024-01-26  194.270004  194.759995  191.940002  192.419998  192.419998   \n",
      "2024-01-29  192.009995  192.199997  189.580002  191.729996  191.729996   \n",
      "2024-01-30  190.940002  191.800003  187.470001  188.039993  188.039993   \n",
      "2024-01-31  187.039993  187.100006  184.350006  184.399994  184.399994   \n",
      "\n",
      "              Volume  \n",
      "Date                  \n",
      "2024-01-18  78005800  \n",
      "2024-01-19  68741000  \n",
      "2024-01-22  60133900  \n",
      "2024-01-23  42355600  \n",
      "2024-01-24  53631300  \n",
      "2024-01-25  54822100  \n",
      "2024-01-26  44553400  \n",
      "2024-01-29  47145600  \n",
      "2024-01-30  55859400  \n",
      "2024-01-31  55396700  \n"
     ]
    },
    {
     "name": "stderr",
     "output_type": "stream",
     "text": [
      "\n"
     ]
    }
   ],
   "source": [
    "recent_data = yf.download(\"AAPL\", period = \"10d\")\n",
    "print(recent_data)"
   ]
  },
  {
   "cell_type": "code",
   "execution_count": 9,
   "id": "442d482d-144f-4fcb-bf7f-c2c47811d3c4",
   "metadata": {
    "tags": []
   },
   "outputs": [
    {
     "name": "stderr",
     "output_type": "stream",
     "text": [
      "[*********************100%%**********************]  2 of 2 completed"
     ]
    },
    {
     "name": "stdout",
     "output_type": "stream",
     "text": [
      "Price        Adj Close                   Close                    High  \\\n",
      "Ticker            AAPL        MSFT        AAPL        MSFT        AAPL   \n",
      "Date                                                                     \n",
      "2020-01-02   73.152649  154.779510   75.087502  160.619995   75.150002   \n",
      "2020-01-03   72.441475  152.852234   74.357498  158.619995   75.144997   \n",
      "2020-01-06   73.018684  153.247345   74.949997  159.029999   74.989998   \n",
      "2020-01-07   72.675262  151.850098   74.597504  157.580002   75.224998   \n",
      "2020-01-08   73.844353  154.268829   75.797501  160.089996   76.110001   \n",
      "...                ...         ...         ...         ...         ...   \n",
      "2020-12-24  129.679733  216.924271  131.970001  222.750000  133.460007   \n",
      "2020-12-28  134.317810  219.076462  136.690002  224.960007  137.339996   \n",
      "2020-12-29  132.529404  218.287689  134.869995  224.149994  138.789993   \n",
      "2020-12-30  131.399384  215.882248  133.720001  221.679993  135.990005   \n",
      "2020-12-31  130.387222  216.602936  132.690002  222.419998  134.740005   \n",
      "\n",
      "Price                          Low                    Open              \\\n",
      "Ticker            MSFT        AAPL        MSFT        AAPL        MSFT   \n",
      "Date                                                                     \n",
      "2020-01-02  160.729996   73.797501  158.330002   74.059998  158.779999   \n",
      "2020-01-03  159.949997   74.125000  158.059998   74.287498  158.320007   \n",
      "2020-01-06  159.100006   73.187500  156.509995   73.447502  157.080002   \n",
      "2020-01-07  159.669998   74.370003  157.320007   74.959999  159.320007   \n",
      "2020-01-08  160.800003   74.290001  157.949997   74.290001  158.929993   \n",
      "...                ...         ...         ...         ...         ...   \n",
      "2020-12-24  223.610001  131.100006  221.199997  131.320007  221.419998   \n",
      "2020-12-28  226.029999  133.509995  223.020004  133.990005  224.449997   \n",
      "2020-12-29  227.179993  134.339996  223.580002  138.050003  226.309998   \n",
      "2020-12-30  225.630005  133.399994  221.470001  135.580002  225.229996   \n",
      "2020-12-31  223.000000  131.720001  219.679993  134.080002  221.699997   \n",
      "\n",
      "Price          Volume            \n",
      "Ticker           AAPL      MSFT  \n",
      "Date                             \n",
      "2020-01-02  135480400  22622100  \n",
      "2020-01-03  146322800  21116200  \n",
      "2020-01-06  118387200  20813700  \n",
      "2020-01-07  108872000  21634100  \n",
      "2020-01-08  132079200  27746500  \n",
      "...               ...       ...  \n",
      "2020-12-24   54930100  10550600  \n",
      "2020-12-28  124486200  17933500  \n",
      "2020-12-29  121047300  17403200  \n",
      "2020-12-30   96452100  20272300  \n",
      "2020-12-31   99116600  20942100  \n",
      "\n",
      "[253 rows x 12 columns]\n"
     ]
    },
    {
     "name": "stderr",
     "output_type": "stream",
     "text": [
      "\n"
     ]
    }
   ],
   "source": [
    "multi_data = yf.download([\"AAPL\", \"MSFT\"], start=\"2020-01-01\", end=\"2021-01-01\")\n",
    "print(multi_data)"
   ]
  },
  {
   "cell_type": "code",
   "execution_count": null,
   "id": "e89652dc-47b6-4c28-af02-f66ba24846fa",
   "metadata": {},
   "outputs": [],
   "source": []
  }
 ],
 "metadata": {
  "kernelspec": {
   "display_name": "Python 3 (ipykernel)",
   "language": "python",
   "name": "python3"
  },
  "language_info": {
   "codemirror_mode": {
    "name": "ipython",
    "version": 3
   },
   "file_extension": ".py",
   "mimetype": "text/x-python",
   "name": "python",
   "nbconvert_exporter": "python",
   "pygments_lexer": "ipython3",
   "version": "3.11.5"
  }
 },
 "nbformat": 4,
 "nbformat_minor": 5
}
